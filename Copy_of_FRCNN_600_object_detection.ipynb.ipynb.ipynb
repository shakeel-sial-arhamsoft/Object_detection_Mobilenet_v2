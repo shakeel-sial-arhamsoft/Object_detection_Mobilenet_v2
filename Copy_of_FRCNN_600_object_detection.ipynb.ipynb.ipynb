{
  "cells": [
    {
      "cell_type": "markdown",
      "metadata": {
        "id": "N6ZDpd9XzFeN"
      },
      "source": [
        "##### Copyright 2018 The TensorFlow Hub Authors.\n",
        "\n",
        "Licensed under the Apache License, Version 2.0 (the \"License\");"
      ]
    },
    {
      "cell_type": "code",
      "execution_count": null,
      "metadata": {
        "cellView": "both",
        "id": "KUu4vOt5zI9d"
      },
      "outputs": [],
      "source": [
        "# Copyright 2018 The TensorFlow Hub Authors. All Rights Reserved.\n",
        "#\n",
        "# Licensed under the Apache License, Version 2.0 (the \"License\");\n",
        "# you may not use this file except in compliance with the License.\n",
        "# You may obtain a copy of the License at\n",
        "#\n",
        "#     http://www.apache.org/licenses/LICENSE-2.0\n",
        "#\n",
        "# Unless required by applicable law or agreed to in writing, software\n",
        "# distributed under the License is distributed on an \"AS IS\" BASIS,\n",
        "# WITHOUT WARRANTIES OR CONDITIONS OF ANY KIND, either express or implied.\n",
        "# See the License for the specific language governing permissions and\n",
        "# limitations under the License.\n",
        "# =============================================================================="
      ]
    },
    {
      "cell_type": "markdown",
      "metadata": {
        "id": "CxmDMK4yupqg"
      },
      "source": [
        "# Object Detection\n"
      ]
    },
    {
      "cell_type": "markdown",
      "metadata": {
        "id": "MfBg1C5NB3X0"
      },
      "source": [
        "<table class=\"tfo-notebook-buttons\" align=\"left\">\n",
        "  <td>\n",
        "    <a target=\"_blank\" href=\"https://www.tensorflow.org/hub/tutorials/object_detection\"><img src=\"https://www.tensorflow.org/images/tf_logo_32px.png\" />View on TensorFlow.org</a>\n",
        "  </td>\n",
        "  <td>\n",
        "    <a target=\"_blank\" href=\"https://colab.research.google.com/github/tensorflow/docs/blob/master/site/en/hub/tutorials/object_detection.ipynb\"><img src=\"https://www.tensorflow.org/images/colab_logo_32px.png\" />Run in Google Colab</a>\n",
        "  </td>\n",
        "  <td>\n",
        "    <a target=\"_blank\" href=\"https://github.com/tensorflow/docs/blob/master/site/en/hub/tutorials/object_detection.ipynb\"><img src=\"https://www.tensorflow.org/images/GitHub-Mark-32px.png\" />View on GitHub</a>\n",
        "  </td>\n",
        "  <td>\n",
        "    <a href=\"https://storage.googleapis.com/tensorflow_docs/docs/site/en/hub/tutorials/object_detection.ipynb\"><img src=\"https://www.tensorflow.org/images/download_logo_32px.png\" />Download notebook</a>\n",
        "  </td>\n",
        "  <td>\n",
        "    <a href=\"https://tfhub.dev/s?q=google%2Ffaster_rcnn%2Fopenimages_v4%2Finception_resnet_v2%2F1%20OR%20google%2Ffaster_rcnn%2Fopenimages_v4%2Finception_resnet_v2%2F1\"><img src=\"https://www.tensorflow.org/images/hub_logo_32px.png\" />See TF Hub models</a>\n",
        "  </td>\n",
        "</table>"
      ]
    },
    {
      "cell_type": "markdown",
      "metadata": {
        "id": "Sy553YSVmYiK"
      },
      "source": [
        "This Colab demonstrates use of a TF-Hub module trained to perform object detection."
      ]
    },
    {
      "cell_type": "markdown",
      "metadata": {
        "id": "v4XGxDrCkeip"
      },
      "source": [
        "## Setup\n"
      ]
    },
    {
      "cell_type": "code",
      "execution_count": null,
      "metadata": {
        "id": "6cPY9Ou4sWs_",
        "outputId": "0405db55-1c06-4713-cf95-63a19c24f753",
        "colab": {
          "base_uri": "https://localhost:8080/"
        }
      },
      "outputs": [
        {
          "output_type": "stream",
          "name": "stdout",
          "text": [
            "2.12.0\n",
            "The following GPU devices are available: /device:GPU:0\n"
          ]
        }
      ],
      "source": [
        "#@title Imports and function definitions\n",
        "\n",
        "# For running inference on the TF-Hub module.\n",
        "import tensorflow as tf\n",
        "\n",
        "import tensorflow_hub as hub\n",
        "\n",
        "# For downloading the image.\n",
        "import matplotlib.pyplot as plt\n",
        "import tempfile\n",
        "from six.moves.urllib.request import urlopen\n",
        "from six import BytesIO\n",
        "\n",
        "# For drawing onto the image.\n",
        "import numpy as np\n",
        "from PIL import Image\n",
        "from PIL import ImageColor\n",
        "from PIL import ImageDraw\n",
        "from PIL import ImageFont\n",
        "from PIL import ImageOps\n",
        "\n",
        "# For measuring the inference time.\n",
        "import time\n",
        "\n",
        "# Print Tensorflow version\n",
        "print(tf.__version__)\n",
        "\n",
        "# Check available GPU devices.\n",
        "print(\"The following GPU devices are available: %s\" % tf.test.gpu_device_name())"
      ]
    },
    {
      "cell_type": "markdown",
      "metadata": {
        "id": "ZGkrXGy62409"
      },
      "source": [
        "## Example use"
      ]
    },
    {
      "cell_type": "markdown",
      "metadata": {
        "id": "vlA3CftFpRiW"
      },
      "source": [
        "### Helper functions for downloading images and for visualization.\n",
        "\n",
        "Visualization code adapted from [TF object detection API](https://github.com/tensorflow/models/blob/master/research/object_detection/utils/visualization_utils.py) for the simplest required functionality."
      ]
    },
    {
      "cell_type": "code",
      "execution_count": null,
      "metadata": {
        "id": "D9IwDpOtpIHW"
      },
      "outputs": [],
      "source": [
        "def display_image(image):\n",
        "  fig = plt.figure(figsize=(20, 15))\n",
        "  plt.grid(False)\n",
        "  plt.imshow(image)\n",
        "\n",
        "\n",
        "def download_and_resize_image(url, new_width=256, new_height=256,\n",
        "                              display=False):\n",
        "  _, filename = tempfile.mkstemp(suffix=\".jpg\")\n",
        "  response = urlopen(url)\n",
        "  image_data = response.read()\n",
        "  image_data = BytesIO(image_data)\n",
        "  pil_image = Image.open(image_data)\n",
        "  pil_image = ImageOps.fit(pil_image, (new_width, new_height), Image.LANCZOS)\n",
        "  pil_image_rgb = pil_image.convert(\"RGB\")\n",
        "  pil_image_rgb.save(filename, format=\"JPEG\", quality=90)\n",
        "  print(\"Image downloaded to %s.\" % filename)\n",
        "  if display:\n",
        "    display_image(pil_image)\n",
        "  return filename\n",
        "\n",
        "\n",
        "def draw_bounding_box_on_image(image,\n",
        "                               ymin,\n",
        "                               xmin,\n",
        "                               ymax,\n",
        "                               xmax,\n",
        "                               color,\n",
        "                               font,\n",
        "                               thickness=4,\n",
        "                               display_str_list=()):\n",
        "  \"\"\"Adds a bounding box to an image.\"\"\"\n",
        "  draw = ImageDraw.Draw(image)\n",
        "  im_width, im_height = image.size\n",
        "  (left, right, top, bottom) = (xmin * im_width, xmax * im_width,\n",
        "                                ymin * im_height, ymax * im_height)\n",
        "  draw.line([(left, top), (left, bottom), (right, bottom), (right, top),\n",
        "             (left, top)],\n",
        "            width=thickness,\n",
        "            fill=color)\n",
        "\n",
        "  # If the total height of the display strings added to the top of the bounding\n",
        "  # box exceeds the top of the image, stack the strings below the bounding box\n",
        "  # instead of above.\n",
        "  display_str_heights = [font.getbbox(ds)[3] for ds in display_str_list]\n",
        "  # Each display_str has a top and bottom margin of 0.05x.\n",
        "  total_display_str_height = (1 + 2 * 0.05) * sum(display_str_heights)\n",
        "\n",
        "  if top > total_display_str_height:\n",
        "    text_bottom = top\n",
        "  else:\n",
        "    text_bottom = top + total_display_str_height\n",
        "  # Reverse list and print from bottom to top.\n",
        "  for display_str in display_str_list[::-1]:\n",
        "    bbox = font.getbbox(display_str)\n",
        "    text_width, text_height = bbox[2], bbox[3]\n",
        "    margin = np.ceil(0.05 * text_height)\n",
        "    draw.rectangle([(left, text_bottom - text_height - 2 * margin),\n",
        "                    (left + text_width, text_bottom)],\n",
        "                   fill=color)\n",
        "    draw.text((left + margin, text_bottom - text_height - margin),\n",
        "              display_str,\n",
        "              fill=\"black\",\n",
        "              font=font)\n",
        "    text_bottom -= text_height - 2 * margin\n",
        "\n",
        "\n",
        "def draw_boxes(image, boxes, class_names, scores, max_boxes=10, min_score=0.1):\n",
        "  \"\"\"Overlay labeled boxes on an image with formatted scores and label names.\"\"\"\n",
        "  colors = list(ImageColor.colormap.values())\n",
        "\n",
        "  try:\n",
        "    font = ImageFont.truetype(\"/usr/share/fonts/truetype/liberation/LiberationSansNarrow-Regular.ttf\",\n",
        "                              25)\n",
        "  except IOError:\n",
        "    print(\"Font not found, using default font.\")\n",
        "    font = ImageFont.load_default()\n",
        "\n",
        "  for i in range(min(boxes.shape[0], max_boxes)):\n",
        "    if scores[i] >= min_score:\n",
        "      ymin, xmin, ymax, xmax = tuple(boxes[i])\n",
        "      display_str = \"{}: {}%\".format(class_names[i].decode(\"ascii\"),\n",
        "                                     int(100 * scores[i]))\n",
        "      color = colors[hash(class_names[i]) % len(colors)]\n",
        "      image_pil = Image.fromarray(np.uint8(image)).convert(\"RGB\")\n",
        "      draw_bounding_box_on_image(\n",
        "          image_pil,\n",
        "          ymin,\n",
        "          xmin,\n",
        "          ymax,\n",
        "          xmax,\n",
        "          color,\n",
        "          font,\n",
        "          display_str_list=[display_str])\n",
        "      np.copyto(image, np.array(image_pil))\n",
        "  return image"
      ]
    },
    {
      "cell_type": "markdown",
      "metadata": {
        "id": "D19UCu9Q2-_8"
      },
      "source": [
        "## Apply module\n",
        "\n",
        "Load a public image from Open Images v4, save locally, and display."
      ]
    },
    {
      "cell_type": "code",
      "execution_count": null,
      "metadata": {
        "id": "YLWNhjUY1mhg"
      },
      "outputs": [],
      "source": [
        "# By Heiko Gorski, Source: https://commons.wikimedia.org/wiki/File:Naxos_Taverna.jpg\n",
        "image_url = \"https://upload.wikimedia.org/wikipedia/commons/6/60/Naxos_Taverna.jpg\"  #@param\n",
        "downloaded_image_path = download_and_resize_image(image_url, 1280, 856, True)"
      ]
    },
    {
      "cell_type": "markdown",
      "metadata": {
        "id": "t-VdfLbC1w51"
      },
      "source": [
        "Pick an object detection module and apply on the downloaded image. Modules:\n",
        "* **FasterRCNN+InceptionResNet V2**: high accuracy,\n",
        "* **ssd+mobilenet V2**: small and fast."
      ]
    },
    {
      "cell_type": "code",
      "execution_count": null,
      "metadata": {
        "id": "uazJ5ASc2_QE"
      },
      "outputs": [],
      "source": [
        "module_handle = \"https://tfhub.dev/google/faster_rcnn/openimages_v4/inception_resnet_v2/1\" #@param [\"https://tfhub.dev/google/openimages_v4/ssd/mobilenet_v2/1\", \"https://tfhub.dev/google/faster_rcnn/openimages_v4/inception_resnet_v2/1\"]\n",
        "\n",
        "detector = hub.load(module_handle).signatures['default']"
      ]
    },
    {
      "cell_type": "code",
      "execution_count": null,
      "metadata": {
        "id": "znW8Fq1EC0x7"
      },
      "outputs": [],
      "source": [
        "def load_img(img):\n",
        "  print(\"path: \",img)\n",
        "  img = tf.io.read_file(img)\n",
        "  print(\"tf.io.read_file: \",img)\n",
        "  img = tf.image.decode_jpeg(img, channels=3)\n",
        "  print(\"tf.image.decode_jpeg: \", img)\n",
        "  return img"
      ]
    },
    {
      "cell_type": "code",
      "execution_count": null,
      "metadata": {
        "id": "kwGJV96WWBLH"
      },
      "outputs": [],
      "source": [
        "def run_detector(detector, img):\n",
        "#   img = load_img(img)\n",
        "#   print(\"image: \",img)\n",
        "\n",
        "  converted_img  = tf.image.convert_image_dtype(img, tf.float32)[tf.newaxis, ...]\n",
        "  start_time = time.time()\n",
        "  result = detector(converted_img)\n",
        "  end_time = time.time()-start_time\n",
        "  print(\"Time per frame: \",end_time)\n",
        "  result = {key:value.numpy() for key,value in result.items()}\n",
        "\n",
        "  print(\"Found %d objects.\" % len(result[\"detection_scores\"]))\n",
        "  print(\"Inference time: \", end_time-start_time)\n",
        "\n",
        "  image_with_boxes = draw_boxes(\n",
        "      img, result[\"detection_boxes\"],\n",
        "      result[\"detection_class_entities\"], result[\"detection_scores\"],min_score=0.5)\n",
        "  return image_with_boxes\n",
        "\n",
        "#   display_image(image_with_boxes)"
      ]
    },
    {
      "cell_type": "code",
      "execution_count": null,
      "metadata": {
        "id": "vchaUW1XDodD"
      },
      "outputs": [],
      "source": [
        "# run_detector(detector, downloaded_image_path)"
      ]
    },
    {
      "cell_type": "markdown",
      "metadata": {
        "id": "WUUY3nfRX7VF"
      },
      "source": [
        "### More images\n",
        "Perform inference on some additional images with time tracking.\n"
      ]
    },
    {
      "cell_type": "code",
      "source": [
        "import cv2\n",
        "import time\n",
        "from tensorflow.python.ops.numpy_ops import np_config\n",
        "np_config.enable_numpy_behavior()\n"
      ],
      "metadata": {
        "id": "Z1QrfQPZ-Zoj"
      },
      "execution_count": null,
      "outputs": []
    },
    {
      "cell_type": "code",
      "source": [
        "\n",
        "# def run_detector(model,frame,im_height,im_width):\n",
        "\n",
        "#     img = frame.reshape(1,im_height,im_width, 3).astype(np.uint8)\n",
        "#     st_time = time.time()\n",
        "#     result = model(img)\n",
        "#     print(\"frame Time: \",time.time() - st_time)\n",
        "#     out_img = draw_bboxes(img, result)\n",
        "#     return out_img\n",
        "\n",
        "def save_video_with_bounding_boxes(input_video_path, output_video_path, model):\n",
        "    # Open the input video\n",
        "    video_capture = cv2.VideoCapture(input_video_path)\n",
        "\n",
        "    # Get the video's frame width, height, and frames per second\n",
        "    frame_width = int(video_capture.get(cv2.CAP_PROP_FRAME_WIDTH))\n",
        "    frame_height = int(video_capture.get(cv2.CAP_PROP_FRAME_HEIGHT))\n",
        "    fps = int(video_capture.get(cv2.CAP_PROP_FPS))\n",
        "\n",
        "    # Create VideoWriter object to save the output video\n",
        "    fourcc = cv2.VideoWriter_fourcc(*'XVID')\n",
        "    output_video = cv2.VideoWriter(output_video_path, fourcc, fps, (frame_width, frame_height))\n",
        "\n",
        "    while True:\n",
        "        # Read the next frame\n",
        "        ret, frame = video_capture.read()\n",
        "\n",
        "        if not ret:\n",
        "            break\n",
        "\n",
        "        # Perform object detection on the frame\n",
        "        # Replace the following line with your own object detection code\n",
        "        # The model variable should contain the logic to detect objects and draw bounding boxes\n",
        "        # print(frame)\n",
        "        # frame = tf.convert_to_tensor(frame, dtype=tf.int8)\n",
        "        # print(\"converted_frame\")\n",
        "        (im_height, im_width, _)=frame.shape\n",
        "        # print(type(frame))\n",
        "        # frame = frame.reshape(1,im_height,im_width, 3).astype(np.uint8)\n",
        "        # print(frame.shape)\n",
        "        # return\n",
        "        # detected_frame =run_detector(model, frame,im_height,im_width)\n",
        "        detected_frame =run_detector(model, frame)\n",
        "\n",
        "        # print(detected_frame.shape)\n",
        "        # image1copy = np.uint8(detected_frame)\n",
        "        # image1=np.reshape(detected_frame,(im_height,im_width,3))\n",
        "        # print(image1copy.shape)\n",
        "\n",
        "        # Write the frame with bounding boxes to the output video\n",
        "        # output_video.write(detected_frame1)\n",
        "        output_video.write(detected_frame)\n",
        "        # Display the frame with bounding boxes\n",
        "        # cv2.imshow('Video with Bounding Boxes', detected_frame)\n",
        "        if cv2.waitKey(1) & 0xFF == ord('q'):\n",
        "            break\n",
        "\n",
        "    # Release the video capture and output video objects\n",
        "    video_capture.release()\n",
        "    output_video.release()\n",
        "\n",
        "    # Close all OpenCV windows\n",
        "    cv2.destroyAllWindows()"
      ],
      "metadata": {
        "id": "12OM53D69xWr"
      },
      "execution_count": null,
      "outputs": []
    },
    {
      "cell_type": "code",
      "source": [
        "# Example usage\n",
        "input_video_path = '/content/4.mp4'\n",
        "output_video_path = '/content/frcnn/4_frcnn600_50p.mp4'\n",
        "model = detector  # Replace with your own object detection model\n",
        "\n",
        "save_video_with_bounding_boxes(input_video_path, output_video_path, model)"
      ],
      "metadata": {
        "id": "K7UiAC2qAScc",
        "outputId": "eb6eae2e-fef9-4923-99e5-853ed4f38258",
        "colab": {
          "base_uri": "https://localhost:8080/"
        }
      },
      "execution_count": null,
      "outputs": [
        {
          "output_type": "stream",
          "name": "stdout",
          "text": [
            "Time per frame:  1.3230278491973877\n",
            "Found 100 objects.\n",
            "Inference time:  -1692962537.75661\n",
            "Time per frame:  1.2341349124908447\n",
            "Found 100 objects.\n",
            "Inference time:  -1692962539.2093267\n",
            "Time per frame:  1.2070255279541016\n",
            "Found 100 objects.\n",
            "Inference time:  -1692962540.5128882\n",
            "Time per frame:  1.2273433208465576\n",
            "Found 100 objects.\n",
            "Inference time:  -1692962541.740486\n",
            "Time per frame:  1.3743293285369873\n",
            "Found 100 objects.\n",
            "Inference time:  -1692962542.878096\n",
            "Time per frame:  1.3805367946624756\n",
            "Found 100 objects.\n",
            "Inference time:  -1692962544.3401382\n",
            "Time per frame:  1.2388942241668701\n",
            "Found 100 objects.\n",
            "Inference time:  -1692962545.9083695\n",
            "Time per frame:  1.234250783920288\n",
            "Found 100 objects.\n",
            "Inference time:  -1692962547.1960638\n",
            "Time per frame:  1.2341105937957764\n",
            "Found 100 objects.\n",
            "Inference time:  -1692962548.4711592\n",
            "Time per frame:  1.2294285297393799\n",
            "Found 100 objects.\n",
            "Inference time:  -1692962549.7554166\n",
            "Time per frame:  1.2377352714538574\n",
            "Found 100 objects.\n",
            "Inference time:  -1692962551.0177214\n",
            "Time per frame:  1.2420787811279297\n",
            "Found 100 objects.\n",
            "Inference time:  -1692962552.29211\n",
            "Time per frame:  1.257624864578247\n",
            "Found 100 objects.\n",
            "Inference time:  -1692962553.5609934\n",
            "Time per frame:  1.3902149200439453\n",
            "Found 100 objects.\n",
            "Inference time:  -1692962554.736833\n",
            "Time per frame:  1.4064154624938965\n",
            "Found 100 objects.\n",
            "Inference time:  -1692962556.1740563\n",
            "Time per frame:  1.2306544780731201\n",
            "Found 100 objects.\n",
            "Inference time:  -1692962557.8192837\n",
            "Time per frame:  1.2452189922332764\n",
            "Found 100 objects.\n",
            "Inference time:  -1692962559.0762799\n",
            "Time per frame:  1.2399275302886963\n",
            "Found 100 objects.\n",
            "Inference time:  -1692962560.3680208\n",
            "Time per frame:  1.246957540512085\n",
            "Found 100 objects.\n",
            "Inference time:  -1692962561.6472669\n",
            "Time per frame:  1.2398762702941895\n",
            "Found 100 objects.\n",
            "Inference time:  -1692962562.946567\n",
            "Time per frame:  1.2367501258850098\n",
            "Found 100 objects.\n",
            "Inference time:  -1692962564.2364538\n",
            "Time per frame:  1.2335560321807861\n",
            "Found 100 objects.\n",
            "Inference time:  -1692962565.517296\n",
            "Time per frame:  1.3039462566375732\n",
            "Found 100 objects.\n",
            "Inference time:  -1692962566.7160265\n",
            "Time per frame:  1.411771535873413\n",
            "Found 100 objects.\n",
            "Inference time:  -1692962567.977866\n",
            "Time per frame:  1.2634339332580566\n",
            "Found 100 objects.\n",
            "Inference time:  -1692962569.5976496\n",
            "Time per frame:  1.266251564025879\n",
            "Found 100 objects.\n",
            "Inference time:  -1692962570.9005752\n",
            "Time per frame:  1.2663915157318115\n",
            "Found 100 objects.\n",
            "Inference time:  -1692962572.209587\n",
            "Time per frame:  1.2942724227905273\n",
            "Found 100 objects.\n",
            "Inference time:  -1692962573.4903731\n"
          ]
        }
      ]
    }
  ],
  "metadata": {
    "accelerator": "GPU",
    "colab": {
      "provenance": []
    },
    "kernelspec": {
      "display_name": "Python 3",
      "name": "python3"
    }
  },
  "nbformat": 4,
  "nbformat_minor": 0
}